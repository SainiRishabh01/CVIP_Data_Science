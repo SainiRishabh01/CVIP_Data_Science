{
 "cells": [
  {
   "cell_type": "markdown",
   "id": "a450a463",
   "metadata": {},
   "source": [
    "The Global Terrorism Database (GTD) is an open-source database including information on terrorist attacks around the world from 1970 through 2017. The GTD includes systematic data on domestic as well as international terrorist incidents that have occurred during this time period and now includes more than 180,000 attacks. The database is maintained by researchers at the National Consortium for the Study of Terrorism and Responses to Terrorism (START), headquartered at the University of Maryland.\n",
    "\n",
    "Definition of terrorism:\n",
    "\"The threatened or actual use of illegal force and violence by a non-state actor to attain a political, economic, religious, or social goal through fear, coercion, or intimidation.\""
   ]
  },
  {
   "cell_type": "markdown",
   "id": "24aa33cc",
   "metadata": {},
   "source": [
    "# Exploratory Data Analysis - Terrorism"
   ]
  },
  {
   "cell_type": "code",
   "execution_count": 1,
   "id": "248a0dee",
   "metadata": {},
   "outputs": [],
   "source": [
    "import pandas as pd\n",
    "import numpy as np\n",
    "import matplotlib.pyplot as plt\n",
    "import seaborn as sns"
   ]
  },
  {
   "cell_type": "code",
   "execution_count": 2,
   "id": "7d5c3dad",
   "metadata": {},
   "outputs": [
    {
     "name": "stderr",
     "output_type": "stream",
     "text": [
      "C:\\Users\\risha\\AppData\\Local\\Temp\\ipykernel_3904\\2663619934.py:3: DtypeWarning: Columns (4,6,31,33,61,62,63,76,79,90,92,94,96,114,115,121) have mixed types. Specify dtype option on import or set low_memory=False.\n",
      "  df=pd.read_csv(path,encoding = 'ISO-8859-1')\n"
     ]
    }
   ],
   "source": [
    "#Read CSV file\n",
    "path=\"globalterrorismdb_0718dist.csv\"\n",
    "df=pd.read_csv(path,encoding = 'ISO-8859-1')"
   ]
  },
  {
   "cell_type": "code",
   "execution_count": 3,
   "id": "778c0e17",
   "metadata": {},
   "outputs": [
    {
     "data": {
      "text/html": [
       "<div>\n",
       "<style scoped>\n",
       "    .dataframe tbody tr th:only-of-type {\n",
       "        vertical-align: middle;\n",
       "    }\n",
       "\n",
       "    .dataframe tbody tr th {\n",
       "        vertical-align: top;\n",
       "    }\n",
       "\n",
       "    .dataframe thead th {\n",
       "        text-align: right;\n",
       "    }\n",
       "</style>\n",
       "<table border=\"1\" class=\"dataframe\">\n",
       "  <thead>\n",
       "    <tr style=\"text-align: right;\">\n",
       "      <th></th>\n",
       "      <th>eventid</th>\n",
       "      <th>iyear</th>\n",
       "      <th>imonth</th>\n",
       "      <th>iday</th>\n",
       "      <th>approxdate</th>\n",
       "      <th>extended</th>\n",
       "      <th>resolution</th>\n",
       "      <th>country</th>\n",
       "      <th>country_txt</th>\n",
       "      <th>region</th>\n",
       "      <th>...</th>\n",
       "      <th>addnotes</th>\n",
       "      <th>scite1</th>\n",
       "      <th>scite2</th>\n",
       "      <th>scite3</th>\n",
       "      <th>dbsource</th>\n",
       "      <th>INT_LOG</th>\n",
       "      <th>INT_IDEO</th>\n",
       "      <th>INT_MISC</th>\n",
       "      <th>INT_ANY</th>\n",
       "      <th>related</th>\n",
       "    </tr>\n",
       "  </thead>\n",
       "  <tbody>\n",
       "    <tr>\n",
       "      <th>0</th>\n",
       "      <td>197000000001</td>\n",
       "      <td>1970</td>\n",
       "      <td>7</td>\n",
       "      <td>2</td>\n",
       "      <td>NaN</td>\n",
       "      <td>0</td>\n",
       "      <td>NaN</td>\n",
       "      <td>58</td>\n",
       "      <td>Dominican Republic</td>\n",
       "      <td>2</td>\n",
       "      <td>...</td>\n",
       "      <td>NaN</td>\n",
       "      <td>NaN</td>\n",
       "      <td>NaN</td>\n",
       "      <td>NaN</td>\n",
       "      <td>PGIS</td>\n",
       "      <td>0</td>\n",
       "      <td>0</td>\n",
       "      <td>0</td>\n",
       "      <td>0</td>\n",
       "      <td>NaN</td>\n",
       "    </tr>\n",
       "    <tr>\n",
       "      <th>1</th>\n",
       "      <td>197000000002</td>\n",
       "      <td>1970</td>\n",
       "      <td>0</td>\n",
       "      <td>0</td>\n",
       "      <td>NaN</td>\n",
       "      <td>0</td>\n",
       "      <td>NaN</td>\n",
       "      <td>130</td>\n",
       "      <td>Mexico</td>\n",
       "      <td>1</td>\n",
       "      <td>...</td>\n",
       "      <td>NaN</td>\n",
       "      <td>NaN</td>\n",
       "      <td>NaN</td>\n",
       "      <td>NaN</td>\n",
       "      <td>PGIS</td>\n",
       "      <td>0</td>\n",
       "      <td>1</td>\n",
       "      <td>1</td>\n",
       "      <td>1</td>\n",
       "      <td>NaN</td>\n",
       "    </tr>\n",
       "    <tr>\n",
       "      <th>2</th>\n",
       "      <td>197001000001</td>\n",
       "      <td>1970</td>\n",
       "      <td>1</td>\n",
       "      <td>0</td>\n",
       "      <td>NaN</td>\n",
       "      <td>0</td>\n",
       "      <td>NaN</td>\n",
       "      <td>160</td>\n",
       "      <td>Philippines</td>\n",
       "      <td>5</td>\n",
       "      <td>...</td>\n",
       "      <td>NaN</td>\n",
       "      <td>NaN</td>\n",
       "      <td>NaN</td>\n",
       "      <td>NaN</td>\n",
       "      <td>PGIS</td>\n",
       "      <td>-9</td>\n",
       "      <td>-9</td>\n",
       "      <td>1</td>\n",
       "      <td>1</td>\n",
       "      <td>NaN</td>\n",
       "    </tr>\n",
       "    <tr>\n",
       "      <th>3</th>\n",
       "      <td>197001000002</td>\n",
       "      <td>1970</td>\n",
       "      <td>1</td>\n",
       "      <td>0</td>\n",
       "      <td>NaN</td>\n",
       "      <td>0</td>\n",
       "      <td>NaN</td>\n",
       "      <td>78</td>\n",
       "      <td>Greece</td>\n",
       "      <td>8</td>\n",
       "      <td>...</td>\n",
       "      <td>NaN</td>\n",
       "      <td>NaN</td>\n",
       "      <td>NaN</td>\n",
       "      <td>NaN</td>\n",
       "      <td>PGIS</td>\n",
       "      <td>-9</td>\n",
       "      <td>-9</td>\n",
       "      <td>1</td>\n",
       "      <td>1</td>\n",
       "      <td>NaN</td>\n",
       "    </tr>\n",
       "    <tr>\n",
       "      <th>4</th>\n",
       "      <td>197001000003</td>\n",
       "      <td>1970</td>\n",
       "      <td>1</td>\n",
       "      <td>0</td>\n",
       "      <td>NaN</td>\n",
       "      <td>0</td>\n",
       "      <td>NaN</td>\n",
       "      <td>101</td>\n",
       "      <td>Japan</td>\n",
       "      <td>4</td>\n",
       "      <td>...</td>\n",
       "      <td>NaN</td>\n",
       "      <td>NaN</td>\n",
       "      <td>NaN</td>\n",
       "      <td>NaN</td>\n",
       "      <td>PGIS</td>\n",
       "      <td>-9</td>\n",
       "      <td>-9</td>\n",
       "      <td>1</td>\n",
       "      <td>1</td>\n",
       "      <td>NaN</td>\n",
       "    </tr>\n",
       "  </tbody>\n",
       "</table>\n",
       "<p>5 rows × 135 columns</p>\n",
       "</div>"
      ],
      "text/plain": [
       "        eventid  iyear  imonth  iday approxdate  extended resolution  country  \\\n",
       "0  197000000001   1970       7     2        NaN         0        NaN       58   \n",
       "1  197000000002   1970       0     0        NaN         0        NaN      130   \n",
       "2  197001000001   1970       1     0        NaN         0        NaN      160   \n",
       "3  197001000002   1970       1     0        NaN         0        NaN       78   \n",
       "4  197001000003   1970       1     0        NaN         0        NaN      101   \n",
       "\n",
       "          country_txt  region  ... addnotes scite1 scite2  scite3  dbsource  \\\n",
       "0  Dominican Republic       2  ...      NaN    NaN    NaN     NaN      PGIS   \n",
       "1              Mexico       1  ...      NaN    NaN    NaN     NaN      PGIS   \n",
       "2         Philippines       5  ...      NaN    NaN    NaN     NaN      PGIS   \n",
       "3              Greece       8  ...      NaN    NaN    NaN     NaN      PGIS   \n",
       "4               Japan       4  ...      NaN    NaN    NaN     NaN      PGIS   \n",
       "\n",
       "   INT_LOG  INT_IDEO INT_MISC INT_ANY  related  \n",
       "0        0         0        0       0      NaN  \n",
       "1        0         1        1       1      NaN  \n",
       "2       -9        -9        1       1      NaN  \n",
       "3       -9        -9        1       1      NaN  \n",
       "4       -9        -9        1       1      NaN  \n",
       "\n",
       "[5 rows x 135 columns]"
      ]
     },
     "execution_count": 3,
     "metadata": {},
     "output_type": "execute_result"
    }
   ],
   "source": [
    "#Displaying first few rows\n",
    "df.head()"
   ]
  },
  {
   "cell_type": "code",
   "execution_count": 4,
   "id": "8b760c93",
   "metadata": {},
   "outputs": [
    {
     "name": "stdout",
     "output_type": "stream",
     "text": [
      "<class 'pandas.core.frame.DataFrame'>\n",
      "RangeIndex: 181691 entries, 0 to 181690\n",
      "Columns: 135 entries, eventid to related\n",
      "dtypes: float64(55), int64(22), object(58)\n",
      "memory usage: 187.1+ MB\n"
     ]
    }
   ],
   "source": [
    "#Checkng data types\n",
    "df.info()"
   ]
  },
  {
   "cell_type": "code",
   "execution_count": 5,
   "id": "8dce896b",
   "metadata": {},
   "outputs": [
    {
     "data": {
      "text/plain": [
       "Index(['eventid', 'iyear', 'imonth', 'iday', 'approxdate', 'extended',\n",
       "       'resolution', 'country', 'country_txt', 'region',\n",
       "       ...\n",
       "       'addnotes', 'scite1', 'scite2', 'scite3', 'dbsource', 'INT_LOG',\n",
       "       'INT_IDEO', 'INT_MISC', 'INT_ANY', 'related'],\n",
       "      dtype='object', length=135)"
      ]
     },
     "execution_count": 5,
     "metadata": {},
     "output_type": "execute_result"
    }
   ],
   "source": [
    "#Name of columns\n",
    "df.columns"
   ]
  },
  {
   "cell_type": "code",
   "execution_count": 6,
   "id": "2c5f85c2",
   "metadata": {},
   "outputs": [
    {
     "data": {
      "text/plain": [
       "(181691, 135)"
      ]
     },
     "execution_count": 6,
     "metadata": {},
     "output_type": "execute_result"
    }
   ],
   "source": [
    "#Shape of dataset\n",
    "df.shape"
   ]
  },
  {
   "cell_type": "code",
   "execution_count": 7,
   "id": "50080e38",
   "metadata": {},
   "outputs": [],
   "source": [
    "df.rename(columns={'iyear':'Year','imonth':'Month','iday':'Day','country_txt':'Country','provstate':'state',\n",
    "                       'region_txt':'Region','attacktype1_txt':'AttackType','target1':'Target','nkill':'Killed',\n",
    "                       'nwound':'Wounded','gname':'Group','targtype1_txt':'Target_type','natlty1_txt':'nationality_Target',\n",
    "                       'weaptype1_txt':'Weapon_type','natlty1_type':'nationality_target'},inplace=True)"
   ]
  },
  {
   "cell_type": "code",
   "execution_count": 8,
   "id": "6934b112",
   "metadata": {},
   "outputs": [],
   "source": [
    "df=df[['Year','Month','Day','Country','extended','state','Region','city','AttackType','Killed',\n",
    "               'Wounded','property','Target','nationality_Target','Group','Target_type','Weapon_type','success']]"
   ]
  },
  {
   "cell_type": "code",
   "execution_count": 9,
   "id": "4afa1e0e",
   "metadata": {},
   "outputs": [
    {
     "data": {
      "text/html": [
       "<div>\n",
       "<style scoped>\n",
       "    .dataframe tbody tr th:only-of-type {\n",
       "        vertical-align: middle;\n",
       "    }\n",
       "\n",
       "    .dataframe tbody tr th {\n",
       "        vertical-align: top;\n",
       "    }\n",
       "\n",
       "    .dataframe thead th {\n",
       "        text-align: right;\n",
       "    }\n",
       "</style>\n",
       "<table border=\"1\" class=\"dataframe\">\n",
       "  <thead>\n",
       "    <tr style=\"text-align: right;\">\n",
       "      <th></th>\n",
       "      <th>Year</th>\n",
       "      <th>Month</th>\n",
       "      <th>Day</th>\n",
       "      <th>Country</th>\n",
       "      <th>extended</th>\n",
       "      <th>state</th>\n",
       "      <th>Region</th>\n",
       "      <th>city</th>\n",
       "      <th>AttackType</th>\n",
       "      <th>Killed</th>\n",
       "      <th>Wounded</th>\n",
       "      <th>property</th>\n",
       "      <th>Target</th>\n",
       "      <th>nationality_Target</th>\n",
       "      <th>Group</th>\n",
       "      <th>Target_type</th>\n",
       "      <th>Weapon_type</th>\n",
       "      <th>success</th>\n",
       "    </tr>\n",
       "  </thead>\n",
       "  <tbody>\n",
       "    <tr>\n",
       "      <th>0</th>\n",
       "      <td>1970</td>\n",
       "      <td>7</td>\n",
       "      <td>2</td>\n",
       "      <td>Dominican Republic</td>\n",
       "      <td>0</td>\n",
       "      <td>NaN</td>\n",
       "      <td>Central America &amp; Caribbean</td>\n",
       "      <td>Santo Domingo</td>\n",
       "      <td>Assassination</td>\n",
       "      <td>1.0</td>\n",
       "      <td>0.0</td>\n",
       "      <td>0</td>\n",
       "      <td>Julio Guzman</td>\n",
       "      <td>Dominican Republic</td>\n",
       "      <td>MANO-D</td>\n",
       "      <td>Private Citizens &amp; Property</td>\n",
       "      <td>Unknown</td>\n",
       "      <td>1</td>\n",
       "    </tr>\n",
       "    <tr>\n",
       "      <th>1</th>\n",
       "      <td>1970</td>\n",
       "      <td>0</td>\n",
       "      <td>0</td>\n",
       "      <td>Mexico</td>\n",
       "      <td>0</td>\n",
       "      <td>Federal</td>\n",
       "      <td>North America</td>\n",
       "      <td>Mexico city</td>\n",
       "      <td>Hostage Taking (Kidnapping)</td>\n",
       "      <td>0.0</td>\n",
       "      <td>0.0</td>\n",
       "      <td>0</td>\n",
       "      <td>Nadine Chaval, daughter</td>\n",
       "      <td>Belgium</td>\n",
       "      <td>23rd of September Communist League</td>\n",
       "      <td>Government (Diplomatic)</td>\n",
       "      <td>Unknown</td>\n",
       "      <td>1</td>\n",
       "    </tr>\n",
       "    <tr>\n",
       "      <th>2</th>\n",
       "      <td>1970</td>\n",
       "      <td>1</td>\n",
       "      <td>0</td>\n",
       "      <td>Philippines</td>\n",
       "      <td>0</td>\n",
       "      <td>Tarlac</td>\n",
       "      <td>Southeast Asia</td>\n",
       "      <td>Unknown</td>\n",
       "      <td>Assassination</td>\n",
       "      <td>1.0</td>\n",
       "      <td>0.0</td>\n",
       "      <td>0</td>\n",
       "      <td>Employee</td>\n",
       "      <td>United States</td>\n",
       "      <td>Unknown</td>\n",
       "      <td>Journalists &amp; Media</td>\n",
       "      <td>Unknown</td>\n",
       "      <td>1</td>\n",
       "    </tr>\n",
       "    <tr>\n",
       "      <th>3</th>\n",
       "      <td>1970</td>\n",
       "      <td>1</td>\n",
       "      <td>0</td>\n",
       "      <td>Greece</td>\n",
       "      <td>0</td>\n",
       "      <td>Attica</td>\n",
       "      <td>Western Europe</td>\n",
       "      <td>Athens</td>\n",
       "      <td>Bombing/Explosion</td>\n",
       "      <td>NaN</td>\n",
       "      <td>NaN</td>\n",
       "      <td>1</td>\n",
       "      <td>U.S. Embassy</td>\n",
       "      <td>United States</td>\n",
       "      <td>Unknown</td>\n",
       "      <td>Government (Diplomatic)</td>\n",
       "      <td>Explosives</td>\n",
       "      <td>1</td>\n",
       "    </tr>\n",
       "    <tr>\n",
       "      <th>4</th>\n",
       "      <td>1970</td>\n",
       "      <td>1</td>\n",
       "      <td>0</td>\n",
       "      <td>Japan</td>\n",
       "      <td>0</td>\n",
       "      <td>Fukouka</td>\n",
       "      <td>East Asia</td>\n",
       "      <td>Fukouka</td>\n",
       "      <td>Facility/Infrastructure Attack</td>\n",
       "      <td>NaN</td>\n",
       "      <td>NaN</td>\n",
       "      <td>1</td>\n",
       "      <td>U.S. Consulate</td>\n",
       "      <td>United States</td>\n",
       "      <td>Unknown</td>\n",
       "      <td>Government (Diplomatic)</td>\n",
       "      <td>Incendiary</td>\n",
       "      <td>1</td>\n",
       "    </tr>\n",
       "  </tbody>\n",
       "</table>\n",
       "</div>"
      ],
      "text/plain": [
       "   Year  Month  Day             Country  extended    state  \\\n",
       "0  1970      7    2  Dominican Republic         0      NaN   \n",
       "1  1970      0    0              Mexico         0  Federal   \n",
       "2  1970      1    0         Philippines         0   Tarlac   \n",
       "3  1970      1    0              Greece         0   Attica   \n",
       "4  1970      1    0               Japan         0  Fukouka   \n",
       "\n",
       "                        Region           city                      AttackType  \\\n",
       "0  Central America & Caribbean  Santo Domingo                   Assassination   \n",
       "1                North America    Mexico city     Hostage Taking (Kidnapping)   \n",
       "2               Southeast Asia        Unknown                   Assassination   \n",
       "3               Western Europe         Athens               Bombing/Explosion   \n",
       "4                    East Asia        Fukouka  Facility/Infrastructure Attack   \n",
       "\n",
       "   Killed  Wounded  property                   Target  nationality_Target  \\\n",
       "0     1.0      0.0         0             Julio Guzman  Dominican Republic   \n",
       "1     0.0      0.0         0  Nadine Chaval, daughter             Belgium   \n",
       "2     1.0      0.0         0                 Employee       United States   \n",
       "3     NaN      NaN         1             U.S. Embassy       United States   \n",
       "4     NaN      NaN         1           U.S. Consulate       United States   \n",
       "\n",
       "                                Group                  Target_type  \\\n",
       "0                              MANO-D  Private Citizens & Property   \n",
       "1  23rd of September Communist League      Government (Diplomatic)   \n",
       "2                             Unknown          Journalists & Media   \n",
       "3                             Unknown      Government (Diplomatic)   \n",
       "4                             Unknown      Government (Diplomatic)   \n",
       "\n",
       "  Weapon_type  success  \n",
       "0     Unknown        1  \n",
       "1     Unknown        1  \n",
       "2     Unknown        1  \n",
       "3  Explosives        1  \n",
       "4  Incendiary        1  "
      ]
     },
     "execution_count": 9,
     "metadata": {},
     "output_type": "execute_result"
    }
   ],
   "source": [
    "df.head()"
   ]
  },
  {
   "cell_type": "markdown",
   "id": "ee71dd0e",
   "metadata": {},
   "source": [
    "# Univariate Analysis"
   ]
  },
  {
   "cell_type": "code",
   "execution_count": 10,
   "id": "0a10ebae",
   "metadata": {},
   "outputs": [
    {
     "name": "stdout",
     "output_type": "stream",
     "text": [
      "<class 'pandas.core.frame.DataFrame'>\n",
      "RangeIndex: 181691 entries, 0 to 181690\n",
      "Data columns (total 18 columns):\n",
      " #   Column              Non-Null Count   Dtype  \n",
      "---  ------              --------------   -----  \n",
      " 0   Year                181691 non-null  int64  \n",
      " 1   Month               181691 non-null  int64  \n",
      " 2   Day                 181691 non-null  int64  \n",
      " 3   Country             181691 non-null  object \n",
      " 4   extended            181691 non-null  int64  \n",
      " 5   state               181270 non-null  object \n",
      " 6   Region              181691 non-null  object \n",
      " 7   city                181257 non-null  object \n",
      " 8   AttackType          181691 non-null  object \n",
      " 9   Killed              171378 non-null  float64\n",
      " 10  Wounded             165380 non-null  float64\n",
      " 11  property            181691 non-null  int64  \n",
      " 12  Target              181055 non-null  object \n",
      " 13  nationality_Target  180132 non-null  object \n",
      " 14  Group               181691 non-null  object \n",
      " 15  Target_type         181691 non-null  object \n",
      " 16  Weapon_type         181691 non-null  object \n",
      " 17  success             181691 non-null  int64  \n",
      "dtypes: float64(2), int64(6), object(10)\n",
      "memory usage: 25.0+ MB\n"
     ]
    }
   ],
   "source": [
    "df.info()"
   ]
  },
  {
   "cell_type": "code",
   "execution_count": 11,
   "id": "51df93ff",
   "metadata": {},
   "outputs": [
    {
     "data": {
      "text/plain": [
       "Year                      0\n",
       "Month                     0\n",
       "Day                       0\n",
       "Country                   0\n",
       "extended                  0\n",
       "state                   421\n",
       "Region                    0\n",
       "city                    434\n",
       "AttackType                0\n",
       "Killed                10313\n",
       "Wounded               16311\n",
       "property                  0\n",
       "Target                  636\n",
       "nationality_Target     1559\n",
       "Group                     0\n",
       "Target_type               0\n",
       "Weapon_type               0\n",
       "success                   0\n",
       "dtype: int64"
      ]
     },
     "execution_count": 11,
     "metadata": {},
     "output_type": "execute_result"
    }
   ],
   "source": [
    "#Checking Null or missing values\n",
    "df.isna().sum()"
   ]
  },
  {
   "cell_type": "code",
   "execution_count": 12,
   "id": "72a597fa",
   "metadata": {},
   "outputs": [
    {
     "data": {
      "text/html": [
       "<div>\n",
       "<style scoped>\n",
       "    .dataframe tbody tr th:only-of-type {\n",
       "        vertical-align: middle;\n",
       "    }\n",
       "\n",
       "    .dataframe tbody tr th {\n",
       "        vertical-align: top;\n",
       "    }\n",
       "\n",
       "    .dataframe thead th {\n",
       "        text-align: right;\n",
       "    }\n",
       "</style>\n",
       "<table border=\"1\" class=\"dataframe\">\n",
       "  <thead>\n",
       "    <tr style=\"text-align: right;\">\n",
       "      <th></th>\n",
       "      <th>Year</th>\n",
       "      <th>Month</th>\n",
       "      <th>Day</th>\n",
       "      <th>Country</th>\n",
       "      <th>extended</th>\n",
       "      <th>state</th>\n",
       "      <th>Region</th>\n",
       "      <th>city</th>\n",
       "      <th>AttackType</th>\n",
       "      <th>Killed</th>\n",
       "      <th>Wounded</th>\n",
       "      <th>property</th>\n",
       "      <th>Target</th>\n",
       "      <th>nationality_Target</th>\n",
       "      <th>Group</th>\n",
       "      <th>Target_type</th>\n",
       "      <th>Weapon_type</th>\n",
       "      <th>success</th>\n",
       "    </tr>\n",
       "  </thead>\n",
       "  <tbody>\n",
       "    <tr>\n",
       "      <th>0</th>\n",
       "      <td>1970</td>\n",
       "      <td>7</td>\n",
       "      <td>2</td>\n",
       "      <td>Dominican Republic</td>\n",
       "      <td>0</td>\n",
       "      <td>NaN</td>\n",
       "      <td>Central America &amp; Caribbean</td>\n",
       "      <td>Santo Domingo</td>\n",
       "      <td>Assassination</td>\n",
       "      <td>1.0</td>\n",
       "      <td>0.0</td>\n",
       "      <td>0</td>\n",
       "      <td>Julio Guzman</td>\n",
       "      <td>Dominican Republic</td>\n",
       "      <td>MANO-D</td>\n",
       "      <td>Private Citizens &amp; Property</td>\n",
       "      <td>Unknown</td>\n",
       "      <td>1</td>\n",
       "    </tr>\n",
       "    <tr>\n",
       "      <th>1</th>\n",
       "      <td>1970</td>\n",
       "      <td>0</td>\n",
       "      <td>0</td>\n",
       "      <td>Mexico</td>\n",
       "      <td>0</td>\n",
       "      <td>Federal</td>\n",
       "      <td>North America</td>\n",
       "      <td>Mexico city</td>\n",
       "      <td>Hostage Taking (Kidnapping)</td>\n",
       "      <td>0.0</td>\n",
       "      <td>0.0</td>\n",
       "      <td>0</td>\n",
       "      <td>Nadine Chaval, daughter</td>\n",
       "      <td>Belgium</td>\n",
       "      <td>23rd of September Communist League</td>\n",
       "      <td>Government (Diplomatic)</td>\n",
       "      <td>Unknown</td>\n",
       "      <td>1</td>\n",
       "    </tr>\n",
       "    <tr>\n",
       "      <th>2</th>\n",
       "      <td>1970</td>\n",
       "      <td>1</td>\n",
       "      <td>0</td>\n",
       "      <td>Philippines</td>\n",
       "      <td>0</td>\n",
       "      <td>Tarlac</td>\n",
       "      <td>Southeast Asia</td>\n",
       "      <td>Unknown</td>\n",
       "      <td>Assassination</td>\n",
       "      <td>1.0</td>\n",
       "      <td>0.0</td>\n",
       "      <td>0</td>\n",
       "      <td>Employee</td>\n",
       "      <td>United States</td>\n",
       "      <td>Unknown</td>\n",
       "      <td>Journalists &amp; Media</td>\n",
       "      <td>Unknown</td>\n",
       "      <td>1</td>\n",
       "    </tr>\n",
       "    <tr>\n",
       "      <th>3</th>\n",
       "      <td>1970</td>\n",
       "      <td>1</td>\n",
       "      <td>0</td>\n",
       "      <td>Greece</td>\n",
       "      <td>0</td>\n",
       "      <td>Attica</td>\n",
       "      <td>Western Europe</td>\n",
       "      <td>Athens</td>\n",
       "      <td>Bombing/Explosion</td>\n",
       "      <td>NaN</td>\n",
       "      <td>NaN</td>\n",
       "      <td>1</td>\n",
       "      <td>U.S. Embassy</td>\n",
       "      <td>United States</td>\n",
       "      <td>Unknown</td>\n",
       "      <td>Government (Diplomatic)</td>\n",
       "      <td>Explosives</td>\n",
       "      <td>1</td>\n",
       "    </tr>\n",
       "    <tr>\n",
       "      <th>4</th>\n",
       "      <td>1970</td>\n",
       "      <td>1</td>\n",
       "      <td>0</td>\n",
       "      <td>Japan</td>\n",
       "      <td>0</td>\n",
       "      <td>Fukouka</td>\n",
       "      <td>East Asia</td>\n",
       "      <td>Fukouka</td>\n",
       "      <td>Facility/Infrastructure Attack</td>\n",
       "      <td>NaN</td>\n",
       "      <td>NaN</td>\n",
       "      <td>1</td>\n",
       "      <td>U.S. Consulate</td>\n",
       "      <td>United States</td>\n",
       "      <td>Unknown</td>\n",
       "      <td>Government (Diplomatic)</td>\n",
       "      <td>Incendiary</td>\n",
       "      <td>1</td>\n",
       "    </tr>\n",
       "  </tbody>\n",
       "</table>\n",
       "</div>"
      ],
      "text/plain": [
       "   Year  Month  Day             Country  extended    state  \\\n",
       "0  1970      7    2  Dominican Republic         0      NaN   \n",
       "1  1970      0    0              Mexico         0  Federal   \n",
       "2  1970      1    0         Philippines         0   Tarlac   \n",
       "3  1970      1    0              Greece         0   Attica   \n",
       "4  1970      1    0               Japan         0  Fukouka   \n",
       "\n",
       "                        Region           city                      AttackType  \\\n",
       "0  Central America & Caribbean  Santo Domingo                   Assassination   \n",
       "1                North America    Mexico city     Hostage Taking (Kidnapping)   \n",
       "2               Southeast Asia        Unknown                   Assassination   \n",
       "3               Western Europe         Athens               Bombing/Explosion   \n",
       "4                    East Asia        Fukouka  Facility/Infrastructure Attack   \n",
       "\n",
       "   Killed  Wounded  property                   Target  nationality_Target  \\\n",
       "0     1.0      0.0         0             Julio Guzman  Dominican Republic   \n",
       "1     0.0      0.0         0  Nadine Chaval, daughter             Belgium   \n",
       "2     1.0      0.0         0                 Employee       United States   \n",
       "3     NaN      NaN         1             U.S. Embassy       United States   \n",
       "4     NaN      NaN         1           U.S. Consulate       United States   \n",
       "\n",
       "                                Group                  Target_type  \\\n",
       "0                              MANO-D  Private Citizens & Property   \n",
       "1  23rd of September Communist League      Government (Diplomatic)   \n",
       "2                             Unknown          Journalists & Media   \n",
       "3                             Unknown      Government (Diplomatic)   \n",
       "4                             Unknown      Government (Diplomatic)   \n",
       "\n",
       "  Weapon_type  success  \n",
       "0     Unknown        1  \n",
       "1     Unknown        1  \n",
       "2     Unknown        1  \n",
       "3  Explosives        1  \n",
       "4  Incendiary        1  "
      ]
     },
     "execution_count": 12,
     "metadata": {},
     "output_type": "execute_result"
    }
   ],
   "source": [
    "df.head()"
   ]
  },
  {
   "cell_type": "code",
   "execution_count": 13,
   "id": "74256ca3",
   "metadata": {},
   "outputs": [
    {
     "name": "stderr",
     "output_type": "stream",
     "text": [
      "C:\\Users\\risha\\AppData\\Local\\Temp\\ipykernel_3904\\3994902221.py:2: FutureWarning: The default value of numeric_only in DataFrame.corr is deprecated. In a future version, it will default to False. Select only valid columns or specify the value of numeric_only to silence this warning.\n",
      "  corr_matrix = df.corr()\n"
     ]
    },
    {
     "data": {
      "image/png": "[encoded data removed]",
      "text/plain": [
       "<Figure size 640x480 with 2 Axes>"
      ]
     },
     "metadata": {},
     "output_type": "display_data"
    }
   ],
   "source": [
    "#Checking Correlation between variables\n",
    "corr_matrix = df.corr()\n",
    "sns.heatmap(corr_matrix, annot=True, cmap=\"crest\")\n",
    "plt.show()"
   ]
  },
  {
   "cell_type": "code",
   "execution_count": 14,
   "id": "c6a641df",
   "metadata": {},
   "outputs": [
    {
     "data": {
      "text/plain": [
       "<Axes: >"
      ]
     },
     "execution_count": 14,
     "metadata": {},
     "output_type": "execute_result"
    },
    {
     "data": {
      "image/png": "[encoded data removed]",
      "text/plain": [
       "<Figure size 640x480 with 1 Axes>"
      ]
     },
     "metadata": {},
     "output_type": "display_data"
    }
   ],
   "source": [
    "df['Year'].value_counts().plot(kind='bar') "
   ]
  },
  {
   "cell_type": "markdown",
   "id": "32bb2a95",
   "metadata": {},
   "source": [
    "Top 5 years with most Attack happened from 1971 to 2014\n",
    "1. 2014\n",
    "2. 2015 \n",
    "3. 2016\n",
    "4. 2013\n",
    "5. 2017"
   ]
  },
  {
   "cell_type": "code",
   "execution_count": 15,
   "id": "5bd40f4d",
   "metadata": {},
   "outputs": [
    {
     "data": {
      "text/plain": [
       "<seaborn.axisgrid.FacetGrid at 0x22e24326190>"
      ]
     },
     "execution_count": 15,
     "metadata": {},
     "output_type": "execute_result"
    },
    {
     "data": {
      "image/png": "[encoded data removed]",
      "text/plain": [
       "<Figure size 500x500 with 1 Axes>"
      ]
     },
     "metadata": {},
     "output_type": "display_data"
    }
   ],
   "source": [
    "sns.displot(data=df, x=\"Year\", kind=\"ecdf\")\n"
   ]
  },
  {
   "cell_type": "markdown",
   "id": "bf4127e4",
   "metadata": {},
   "source": [
    "From 1970 to 2014 number of attacks increases"
   ]
  },
  {
   "cell_type": "code",
   "execution_count": 16,
   "id": "8e987b59",
   "metadata": {},
   "outputs": [
    {
     "data": {
      "text/plain": [
       "<Axes: >"
      ]
     },
     "execution_count": 16,
     "metadata": {},
     "output_type": "execute_result"
    },
    {
     "data": {
      "image/png": "[encoded data removed]",
      "text/plain": [
       "<Figure size 640x480 with 1 Axes>"
      ]
     },
     "metadata": {},
     "output_type": "display_data"
    }
   ],
   "source": [
    "df['Month'].value_counts().plot(kind='bar') "
   ]
  },
  {
   "cell_type": "markdown",
   "id": "01e328ab",
   "metadata": {},
   "source": [
    "5th month i.e in May most attacks happened"
   ]
  },
  {
   "cell_type": "code",
   "execution_count": 17,
   "id": "3c598bcb",
   "metadata": {},
   "outputs": [
    {
     "data": {
      "text/plain": [
       "0"
      ]
     },
     "execution_count": 17,
     "metadata": {},
     "output_type": "execute_result"
    }
   ],
   "source": [
    "df['extended'].isna().sum()"
   ]
  },
  {
   "cell_type": "code",
   "execution_count": 18,
   "id": "80e8253e",
   "metadata": {},
   "outputs": [
    {
     "data": {
      "text/plain": [
       "<Axes: ylabel='extended'>"
      ]
     },
     "execution_count": 18,
     "metadata": {},
     "output_type": "execute_result"
    },
    {
     "data": {
      "image/png": "[encoded data removed]",
      "text/plain": [
       "<Figure size 640x480 with 1 Axes>"
      ]
     },
     "metadata": {},
     "output_type": "display_data"
    }
   ],
   "source": [
    "df['extended'].value_counts().plot(kind='pie',autopct='%0.1f%%')"
   ]
  },
  {
   "cell_type": "code",
   "execution_count": 19,
   "id": "332d3af1",
   "metadata": {},
   "outputs": [
    {
     "data": {
      "text/plain": [
       "0    173452\n",
       "1      8239\n",
       "Name: extended, dtype: int64"
      ]
     },
     "execution_count": 19,
     "metadata": {},
     "output_type": "execute_result"
    }
   ],
   "source": [
    "df['extended'].value_counts()"
   ]
  },
  {
   "cell_type": "markdown",
   "id": "58945e04",
   "metadata": {},
   "source": [
    "almost 95% attacks duration is less than 24 hours"
   ]
  },
  {
   "cell_type": "code",
   "execution_count": 20,
   "id": "24fb771f",
   "metadata": {},
   "outputs": [
    {
     "data": {
      "text/plain": [
       "<Axes: >"
      ]
     },
     "execution_count": 20,
     "metadata": {},
     "output_type": "execute_result"
    },
    {
     "data": {
      "image/png": "[encoded data removed]",
      "text/plain": [
       "<Figure size 640x480 with 1 Axes>"
      ]
     },
     "metadata": {},
     "output_type": "display_data"
    }
   ],
   "source": [
    "df['Country'].value_counts().head().plot(kind='bar') "
   ]
  },
  {
   "cell_type": "markdown",
   "id": "45e1e560",
   "metadata": {},
   "source": [
    "Top 5 countries with most attack happened \n",
    "1. Iraq\n",
    "2. Pakistan\n",
    "3. Afghanistan\n",
    "4. India\n",
    "5. Colombia"
   ]
  },
  {
   "cell_type": "code",
   "execution_count": 22,
   "id": "0aa3bba3",
   "metadata": {},
   "outputs": [
    {
     "data": {
      "text/plain": [
       "Iraq           24636\n",
       "Pakistan       14368\n",
       "Afghanistan    12731\n",
       "India          11960\n",
       "Colombia        8306\n",
       "Name: Country, dtype: int64"
      ]
     },
     "execution_count": 22,
     "metadata": {},
     "output_type": "execute_result"
    }
   ],
   "source": [
    "#Number of attacks in top 5 countries with most attack happened \n",
    "df['Country'].value_counts().head()"
   ]
  },
  {
   "cell_type": "code",
   "execution_count": 23,
   "id": "1cb7df78",
   "metadata": {},
   "outputs": [
    {
     "data": {
      "text/plain": [
       "<Axes: >"
      ]
     },
     "execution_count": 23,
     "metadata": {},
     "output_type": "execute_result"
    },
    {
     "data": {
      "image/png": "[encoded data removed]",
      "text/plain": [
       "<Figure size 640x480 with 1 Axes>"
      ]
     },
     "metadata": {},
     "output_type": "display_data"
    }
   ],
   "source": [
    "df['Region'].value_counts().head().plot(kind='bar') \n"
   ]
  },
  {
   "cell_type": "markdown",
   "id": "93704f33",
   "metadata": {},
   "source": [
    "Top 5 regions with most attack happened \n",
    "1. Middle East & North Africa\n",
    "2. South Asia\n",
    "3. South America\n",
    "4. Sub-Saharan Africa\n",
    "5. Western Europe"
   ]
  },
  {
   "cell_type": "code",
   "execution_count": 24,
   "id": "f562f55a",
   "metadata": {},
   "outputs": [
    {
     "data": {
      "text/plain": [
       "Middle East & North Africa    50474\n",
       "South Asia                    44974\n",
       "South America                 18978\n",
       "Sub-Saharan Africa            17550\n",
       "Western Europe                16639\n",
       "Name: Region, dtype: int64"
      ]
     },
     "execution_count": 24,
     "metadata": {},
     "output_type": "execute_result"
    }
   ],
   "source": [
    "df['Region'].value_counts().head()"
   ]
  },
  {
   "cell_type": "code",
   "execution_count": 25,
   "id": "1903dd05",
   "metadata": {},
   "outputs": [
    {
     "data": {
      "text/plain": [
       "5     16875\n",
       "7     16268\n",
       "8     15800\n",
       "10    15563\n",
       "6     15359\n",
       "Name: Month, dtype: int64"
      ]
     },
     "execution_count": 25,
     "metadata": {},
     "output_type": "execute_result"
    }
   ],
   "source": [
    "df['Month'].value_counts().head()"
   ]
  },
  {
   "cell_type": "code",
   "execution_count": 26,
   "id": "e746e5a5",
   "metadata": {},
   "outputs": [
    {
     "data": {
      "text/plain": [
       "0.23171208260177995"
      ]
     },
     "execution_count": 26,
     "metadata": {},
     "output_type": "execute_result"
    }
   ],
   "source": [
    "df['state'].isna().sum()/len(df['state'])*100"
   ]
  },
  {
   "cell_type": "code",
   "execution_count": 27,
   "id": "63135c0c",
   "metadata": {},
   "outputs": [
    {
     "data": {
      "text/plain": [
       "Baghdad             7645\n",
       "Northern Ireland    4498\n",
       "Unknown             4290\n",
       "Balochistan         3710\n",
       "Saladin             3411\n",
       "Name: state, dtype: int64"
      ]
     },
     "execution_count": 27,
     "metadata": {},
     "output_type": "execute_result"
    }
   ],
   "source": [
    "df['state'].value_counts().head()"
   ]
  },
  {
   "cell_type": "markdown",
   "id": "fcc39fe3",
   "metadata": {},
   "source": [
    "Most Attacks happened in Baghdad "
   ]
  },
  {
   "cell_type": "code",
   "execution_count": 28,
   "id": "e5dc3624",
   "metadata": {},
   "outputs": [
    {
     "data": {
      "text/plain": [
       "0.23886708752772565"
      ]
     },
     "execution_count": 28,
     "metadata": {},
     "output_type": "execute_result"
    }
   ],
   "source": [
    "df['city'].isna().sum()/len(df['city'])*100"
   ]
  },
  {
   "cell_type": "code",
   "execution_count": 29,
   "id": "79ac8ac6",
   "metadata": {},
   "outputs": [
    {
     "data": {
      "text/plain": [
       "Unknown    9775\n",
       "Baghdad    7589\n",
       "Karachi    2652\n",
       "Lima       2359\n",
       "Mosul      2265\n",
       "Name: city, dtype: int64"
      ]
     },
     "execution_count": 29,
     "metadata": {},
     "output_type": "execute_result"
    }
   ],
   "source": [
    "df['city'].value_counts().head()"
   ]
  },
  {
   "cell_type": "code",
   "execution_count": 30,
   "id": "1311b188",
   "metadata": {},
   "outputs": [
    {
     "data": {
      "text/plain": [
       "<Axes: >"
      ]
     },
     "execution_count": 30,
     "metadata": {},
     "output_type": "execute_result"
    },
    {
     "data": {
      "image/png": "[encoded data removed]",
      "text/plain": [
       "<Figure size 640x480 with 1 Axes>"
      ]
     },
     "metadata": {},
     "output_type": "display_data"
    }
   ],
   "source": [
    "df['success'].value_counts().plot(kind='bar') "
   ]
  },
  {
   "cell_type": "code",
   "execution_count": 31,
   "id": "43b20f43",
   "metadata": {},
   "outputs": [
    {
     "data": {
      "text/plain": [
       "1    88.959827\n",
       "0    11.040173\n",
       "Name: success, dtype: float64"
      ]
     },
     "execution_count": 31,
     "metadata": {},
     "output_type": "execute_result"
    }
   ],
   "source": [
    "df['success'].value_counts()/len(df['success'])*100"
   ]
  },
  {
   "cell_type": "markdown",
   "id": "e59b5d91",
   "metadata": {},
   "source": [
    "88% attacks are successful "
   ]
  },
  {
   "cell_type": "code",
   "execution_count": 32,
   "id": "740c33e2",
   "metadata": {},
   "outputs": [
    {
     "data": {
      "text/plain": [
       "<Axes: >"
      ]
     },
     "execution_count": 32,
     "metadata": {},
     "output_type": "execute_result"
    },
    {
     "data": {
      "image/png": "[encoded data removed]",
      "text/plain": [
       "<Figure size 640x480 with 1 Axes>"
      ]
     },
     "metadata": {},
     "output_type": "display_data"
    }
   ],
   "source": [
    "df['AttackType'].value_counts().plot(kind='bar')\n",
    "#Most attack types are Bombing/explosion"
   ]
  },
  {
   "cell_type": "markdown",
   "id": "19e08208",
   "metadata": {},
   "source": [
    "In most attacks Bombing/Explosion is used"
   ]
  },
  {
   "cell_type": "code",
   "execution_count": 33,
   "id": "82017bfc",
   "metadata": {},
   "outputs": [
    {
     "data": {
      "text/plain": [
       "<Axes: >"
      ]
     },
     "execution_count": 33,
     "metadata": {},
     "output_type": "execute_result"
    },
    {
     "data": {
      "image/png": "[encoded data removed]",
      "text/plain": [
       "<Figure size 640x480 with 1 Axes>"
      ]
     },
     "metadata": {},
     "output_type": "display_data"
    }
   ],
   "source": [
    "df['Target_type'].value_counts().head().plot(kind='bar')"
   ]
  },
  {
   "cell_type": "markdown",
   "id": "72dd78a5",
   "metadata": {},
   "source": [
    "In most of the attacks target is Private Citizens and Property "
   ]
  },
  {
   "cell_type": "code",
   "execution_count": 34,
   "id": "ef9c886f",
   "metadata": {},
   "outputs": [
    {
     "data": {
      "text/plain": [
       "<Axes: >"
      ]
     },
     "execution_count": 34,
     "metadata": {},
     "output_type": "execute_result"
    },
    {
     "data": {
      "image/png": "[encoded data removed]",
      "text/plain": [
       "<Figure size 640x480 with 1 Axes>"
      ]
     },
     "metadata": {},
     "output_type": "display_data"
    }
   ],
   "source": [
    "df['nationality_Target'].value_counts().head().plot(kind='bar')"
   ]
  },
  {
   "cell_type": "markdown",
   "id": "f77a1cd3",
   "metadata": {},
   "source": [
    "top 5 countryies in which  nationality of the target that was attacked most\n",
    "1. Iraq\n",
    "2. Pakistan\n",
    "3. India\n",
    "4. Afghanistan\n",
    "5. Colombia"
   ]
  },
  {
   "cell_type": "code",
   "execution_count": 35,
   "id": "d73e078d",
   "metadata": {},
   "outputs": [
    {
     "data": {
      "text/plain": [
       "<Axes: ylabel='nationality_Target'>"
      ]
     },
     "execution_count": 35,
     "metadata": {},
     "output_type": "execute_result"
    },
    {
     "data": {
      "image/png": "[encoded data removed]",
      "text/plain": [
       "<Figure size 640x480 with 1 Axes>"
      ]
     },
     "metadata": {},
     "output_type": "display_data"
    }
   ],
   "source": [
    "df['nationality_Target'].value_counts().head().plot(kind='pie',autopct='%0.1f%%')"
   ]
  },
  {
   "cell_type": "code",
   "execution_count": 36,
   "id": "89ab8000",
   "metadata": {},
   "outputs": [
    {
     "data": {
      "text/plain": [
       "<Axes: >"
      ]
     },
     "execution_count": 36,
     "metadata": {},
     "output_type": "execute_result"
    },
    {
     "data": {
      "image/png": "[encoded data removed]",
      "text/plain": [
       "<Figure size 640x480 with 1 Axes>"
      ]
     },
     "metadata": {},
     "output_type": "display_data"
    }
   ],
   "source": [
    "df['Group'].value_counts().head().plot(kind='bar')"
   ]
  },
  {
   "cell_type": "markdown",
   "id": "99db7677",
   "metadata": {},
   "source": [
    "Analyzing the given available information of attacks done by perticular group \"Taliban\" is the group that attack most."
   ]
  },
  {
   "cell_type": "code",
   "execution_count": 37,
   "id": "8a83ece2",
   "metadata": {},
   "outputs": [
    {
     "data": {
      "text/plain": [
       "<Axes: >"
      ]
     },
     "execution_count": 37,
     "metadata": {},
     "output_type": "execute_result"
    },
    {
     "data": {
      "image/png": "[encoded data removed]",
      "text/plain": [
       "<Figure size 640x480 with 1 Axes>"
      ]
     },
     "metadata": {},
     "output_type": "display_data"
    }
   ],
   "source": [
    "df['Weapon_type'].value_counts().plot(kind='bar')"
   ]
  },
  {
   "cell_type": "code",
   "execution_count": 38,
   "id": "80871118",
   "metadata": {},
   "outputs": [
    {
     "data": {
      "text/plain": [
       "Explosives                                                                     92426\n",
       "Firearms                                                                       58524\n",
       "Unknown                                                                        15157\n",
       "Incendiary                                                                     11135\n",
       "Melee                                                                           3655\n",
       "Chemical                                                                         321\n",
       "Sabotage Equipment                                                               141\n",
       "Vehicle (not to include vehicle-borne explosives, i.e., car or truck bombs)      136\n",
       "Other                                                                            114\n",
       "Biological                                                                        35\n",
       "Fake Weapons                                                                      33\n",
       "Radiological                                                                      14\n",
       "Name: Weapon_type, dtype: int64"
      ]
     },
     "execution_count": 38,
     "metadata": {},
     "output_type": "execute_result"
    }
   ],
   "source": [
    "df['Weapon_type'].value_counts()"
   ]
  },
  {
   "cell_type": "markdown",
   "id": "e143591c",
   "metadata": {},
   "source": [
    "Explosives are used in Most attacks"
   ]
  },
  {
   "cell_type": "code",
   "execution_count": 39,
   "id": "7f32cea3",
   "metadata": {},
   "outputs": [
    {
     "data": {
      "text/plain": [
       "0.0    88149\n",
       "1.0    36576\n",
       "2.0    14147\n",
       "3.0     7738\n",
       "4.0     4961\n",
       "Name: Killed, dtype: int64"
      ]
     },
     "execution_count": 39,
     "metadata": {},
     "output_type": "execute_result"
    }
   ],
   "source": [
    "df['Killed'].value_counts().head()"
   ]
  },
  {
   "cell_type": "code",
   "execution_count": 40,
   "id": "e4c2b82d",
   "metadata": {},
   "outputs": [
    {
     "data": {
      "text/plain": [
       "10313"
      ]
     },
     "execution_count": 40,
     "metadata": {},
     "output_type": "execute_result"
    }
   ],
   "source": [
    "df['Killed'].isna().sum()"
   ]
  },
  {
   "cell_type": "code",
   "execution_count": 41,
   "id": "14a2e2c4",
   "metadata": {},
   "outputs": [
    {
     "data": {
      "text/plain": [
       "<seaborn.axisgrid.FacetGrid at 0x22e243ee0d0>"
      ]
     },
     "execution_count": 41,
     "metadata": {},
     "output_type": "execute_result"
    },
    {
     "data": {
      "image/png": "[encoded data removed]",
      "text/plain": [
       "<Figure size 500x500 with 1 Axes>"
      ]
     },
     "metadata": {},
     "output_type": "display_data"
    }
   ],
   "source": [
    "sns.catplot(data=df, x=\"property\", kind=\"count\", palette=\"ch:.25\")"
   ]
  },
  {
   "cell_type": "code",
   "execution_count": 42,
   "id": "947b4f73",
   "metadata": {},
   "outputs": [
    {
     "data": {
      "text/plain": [
       " 1    93533\n",
       " 0    66772\n",
       "-9    21386\n",
       "Name: property, dtype: int64"
      ]
     },
     "execution_count": 42,
     "metadata": {},
     "output_type": "execute_result"
    }
   ],
   "source": [
    "df['property'].value_counts()"
   ]
  },
  {
   "cell_type": "code",
   "execution_count": 43,
   "id": "c371559f",
   "metadata": {},
   "outputs": [
    {
     "data": {
      "text/plain": [
       " 1    51.479160\n",
       " 0    36.750307\n",
       "-9    11.770533\n",
       "Name: property, dtype: float64"
      ]
     },
     "execution_count": 43,
     "metadata": {},
     "output_type": "execute_result"
    }
   ],
   "source": [
    "df['property'].value_counts()/len(df['property'])*100"
   ]
  },
  {
   "cell_type": "markdown",
   "id": "2c26f00e",
   "metadata": {},
   "source": [
    "# bivariate Analysis"
   ]
  },
  {
   "cell_type": "code",
   "execution_count": 44,
   "id": "7faf7055",
   "metadata": {},
   "outputs": [
    {
     "data": {
      "text/html": [
       "<div>\n",
       "<style scoped>\n",
       "    .dataframe tbody tr th:only-of-type {\n",
       "        vertical-align: middle;\n",
       "    }\n",
       "\n",
       "    .dataframe tbody tr th {\n",
       "        vertical-align: top;\n",
       "    }\n",
       "\n",
       "    .dataframe thead th {\n",
       "        text-align: right;\n",
       "    }\n",
       "</style>\n",
       "<table border=\"1\" class=\"dataframe\">\n",
       "  <thead>\n",
       "    <tr style=\"text-align: right;\">\n",
       "      <th>AttackType</th>\n",
       "      <th>Armed Assault</th>\n",
       "      <th>Assassination</th>\n",
       "      <th>Bombing/Explosion</th>\n",
       "      <th>Facility/Infrastructure Attack</th>\n",
       "      <th>Hijacking</th>\n",
       "      <th>Hostage Taking (Barricade Incident)</th>\n",
       "      <th>Hostage Taking (Kidnapping)</th>\n",
       "      <th>Unarmed Assault</th>\n",
       "      <th>Unknown</th>\n",
       "    </tr>\n",
       "    <tr>\n",
       "      <th>success</th>\n",
       "      <th></th>\n",
       "      <th></th>\n",
       "      <th></th>\n",
       "      <th></th>\n",
       "      <th></th>\n",
       "      <th></th>\n",
       "      <th></th>\n",
       "      <th></th>\n",
       "      <th></th>\n",
       "    </tr>\n",
       "  </thead>\n",
       "  <tbody>\n",
       "    <tr>\n",
       "      <th>0</th>\n",
       "      <td>2324</td>\n",
       "      <td>4697</td>\n",
       "      <td>10725</td>\n",
       "      <td>577</td>\n",
       "      <td>80</td>\n",
       "      <td>8</td>\n",
       "      <td>251</td>\n",
       "      <td>136</td>\n",
       "      <td>1261</td>\n",
       "    </tr>\n",
       "    <tr>\n",
       "      <th>1</th>\n",
       "      <td>40345</td>\n",
       "      <td>14615</td>\n",
       "      <td>77530</td>\n",
       "      <td>9779</td>\n",
       "      <td>579</td>\n",
       "      <td>983</td>\n",
       "      <td>10907</td>\n",
       "      <td>879</td>\n",
       "      <td>6015</td>\n",
       "    </tr>\n",
       "  </tbody>\n",
       "</table>\n",
       "</div>"
      ],
      "text/plain": [
       "AttackType  Armed Assault  Assassination  Bombing/Explosion  \\\n",
       "success                                                       \n",
       "0                    2324           4697              10725   \n",
       "1                   40345          14615              77530   \n",
       "\n",
       "AttackType  Facility/Infrastructure Attack  Hijacking  \\\n",
       "success                                                 \n",
       "0                                      577         80   \n",
       "1                                     9779        579   \n",
       "\n",
       "AttackType  Hostage Taking (Barricade Incident)  Hostage Taking (Kidnapping)  \\\n",
       "success                                                                        \n",
       "0                                             8                          251   \n",
       "1                                           983                        10907   \n",
       "\n",
       "AttackType  Unarmed Assault  Unknown  \n",
       "success                               \n",
       "0                       136     1261  \n",
       "1                       879     6015  "
      ]
     },
     "execution_count": 44,
     "metadata": {},
     "output_type": "execute_result"
    }
   ],
   "source": [
    "pd.crosstab(df['success'],df['AttackType'])"
   ]
  },
  {
   "cell_type": "markdown",
   "id": "a295f41f",
   "metadata": {},
   "source": [
    "Most attacks are successful due to Bombing/Explosion "
   ]
  },
  {
   "cell_type": "code",
   "execution_count": 45,
   "id": "c14b2346",
   "metadata": {},
   "outputs": [
    {
     "data": {
      "text/html": [
       "<div>\n",
       "<style scoped>\n",
       "    .dataframe tbody tr th:only-of-type {\n",
       "        vertical-align: middle;\n",
       "    }\n",
       "\n",
       "    .dataframe tbody tr th {\n",
       "        vertical-align: top;\n",
       "    }\n",
       "\n",
       "    .dataframe thead th {\n",
       "        text-align: right;\n",
       "    }\n",
       "</style>\n",
       "<table border=\"1\" class=\"dataframe\">\n",
       "  <thead>\n",
       "    <tr style=\"text-align: right;\">\n",
       "      <th>Weapon_type</th>\n",
       "      <th>Biological</th>\n",
       "      <th>Chemical</th>\n",
       "      <th>Explosives</th>\n",
       "      <th>Fake Weapons</th>\n",
       "      <th>Firearms</th>\n",
       "      <th>Incendiary</th>\n",
       "      <th>Melee</th>\n",
       "      <th>Other</th>\n",
       "      <th>Radiological</th>\n",
       "      <th>Sabotage Equipment</th>\n",
       "      <th>Unknown</th>\n",
       "      <th>Vehicle (not to include vehicle-borne explosives, i.e., car or truck bombs)</th>\n",
       "    </tr>\n",
       "    <tr>\n",
       "      <th>success</th>\n",
       "      <th></th>\n",
       "      <th></th>\n",
       "      <th></th>\n",
       "      <th></th>\n",
       "      <th></th>\n",
       "      <th></th>\n",
       "      <th></th>\n",
       "      <th></th>\n",
       "      <th></th>\n",
       "      <th></th>\n",
       "      <th></th>\n",
       "      <th></th>\n",
       "    </tr>\n",
       "  </thead>\n",
       "  <tbody>\n",
       "    <tr>\n",
       "      <th>0</th>\n",
       "      <td>20</td>\n",
       "      <td>78</td>\n",
       "      <td>12680</td>\n",
       "      <td>15</td>\n",
       "      <td>4434</td>\n",
       "      <td>663</td>\n",
       "      <td>369</td>\n",
       "      <td>24</td>\n",
       "      <td>12</td>\n",
       "      <td>8</td>\n",
       "      <td>1737</td>\n",
       "      <td>19</td>\n",
       "    </tr>\n",
       "    <tr>\n",
       "      <th>1</th>\n",
       "      <td>15</td>\n",
       "      <td>243</td>\n",
       "      <td>79746</td>\n",
       "      <td>18</td>\n",
       "      <td>54090</td>\n",
       "      <td>10472</td>\n",
       "      <td>3286</td>\n",
       "      <td>90</td>\n",
       "      <td>2</td>\n",
       "      <td>133</td>\n",
       "      <td>13420</td>\n",
       "      <td>117</td>\n",
       "    </tr>\n",
       "  </tbody>\n",
       "</table>\n",
       "</div>"
      ],
      "text/plain": [
       "Weapon_type  Biological  Chemical  Explosives  Fake Weapons  Firearms  \\\n",
       "success                                                                 \n",
       "0                    20        78       12680            15      4434   \n",
       "1                    15       243       79746            18     54090   \n",
       "\n",
       "Weapon_type  Incendiary  Melee  Other  Radiological  Sabotage Equipment  \\\n",
       "success                                                                   \n",
       "0                   663    369     24            12                   8   \n",
       "1                 10472   3286     90             2                 133   \n",
       "\n",
       "Weapon_type  Unknown  \\\n",
       "success                \n",
       "0               1737   \n",
       "1              13420   \n",
       "\n",
       "Weapon_type  Vehicle (not to include vehicle-borne explosives, i.e., car or truck bombs)  \n",
       "success                                                                                   \n",
       "0                                                           19                            \n",
       "1                                                          117                            "
      ]
     },
     "execution_count": 45,
     "metadata": {},
     "output_type": "execute_result"
    }
   ],
   "source": [
    "pd.crosstab(df['success'],df['Weapon_type'])"
   ]
  },
  {
   "cell_type": "code",
   "execution_count": 46,
   "id": "e824d8a8",
   "metadata": {},
   "outputs": [
    {
     "data": {
      "text/html": [
       "<div>\n",
       "<style scoped>\n",
       "    .dataframe tbody tr th:only-of-type {\n",
       "        vertical-align: middle;\n",
       "    }\n",
       "\n",
       "    .dataframe tbody tr th {\n",
       "        vertical-align: top;\n",
       "    }\n",
       "\n",
       "    .dataframe thead th {\n",
       "        text-align: right;\n",
       "    }\n",
       "</style>\n",
       "<table border=\"1\" class=\"dataframe\">\n",
       "  <thead>\n",
       "    <tr style=\"text-align: right;\">\n",
       "      <th>extended</th>\n",
       "      <th>0</th>\n",
       "      <th>1</th>\n",
       "    </tr>\n",
       "    <tr>\n",
       "      <th>success</th>\n",
       "      <th></th>\n",
       "      <th></th>\n",
       "    </tr>\n",
       "  </thead>\n",
       "  <tbody>\n",
       "    <tr>\n",
       "      <th>0</th>\n",
       "      <td>20017</td>\n",
       "      <td>42</td>\n",
       "    </tr>\n",
       "    <tr>\n",
       "      <th>1</th>\n",
       "      <td>153435</td>\n",
       "      <td>8197</td>\n",
       "    </tr>\n",
       "  </tbody>\n",
       "</table>\n",
       "</div>"
      ],
      "text/plain": [
       "extended       0     1\n",
       "success               \n",
       "0          20017    42\n",
       "1         153435  8197"
      ]
     },
     "execution_count": 46,
     "metadata": {},
     "output_type": "execute_result"
    }
   ],
   "source": [
    "pd.crosstab(df['success'],df['extended'])"
   ]
  },
  {
   "cell_type": "code",
   "execution_count": 47,
   "id": "a61e97aa",
   "metadata": {},
   "outputs": [
    {
     "data": {
      "text/html": [
       "<div>\n",
       "<style scoped>\n",
       "    .dataframe tbody tr th:only-of-type {\n",
       "        vertical-align: middle;\n",
       "    }\n",
       "\n",
       "    .dataframe tbody tr th {\n",
       "        vertical-align: top;\n",
       "    }\n",
       "\n",
       "    .dataframe thead th {\n",
       "        text-align: right;\n",
       "    }\n",
       "</style>\n",
       "<table border=\"1\" class=\"dataframe\">\n",
       "  <thead>\n",
       "    <tr style=\"text-align: right;\">\n",
       "      <th>state</th>\n",
       "      <th>(Region) of Republican Subordination (Province)</th>\n",
       "      <th>(Republic of) Ingushetia</th>\n",
       "      <th>A Coruna</th>\n",
       "      <th>Aargau</th>\n",
       "      <th>Abia</th>\n",
       "      <th>Abkhazia</th>\n",
       "      <th>Abkhazia (Autonomous Region)</th>\n",
       "      <th>Abkhazia (Autonomous Republic)</th>\n",
       "      <th>Abkhazia (Region)</th>\n",
       "      <th>Abra</th>\n",
       "      <th>...</th>\n",
       "      <th>Zugdidi</th>\n",
       "      <th>Zulia</th>\n",
       "      <th>Zurich</th>\n",
       "      <th>khon kaen</th>\n",
       "      <th>phayao</th>\n",
       "      <th>sakon nakhon</th>\n",
       "      <th>samut prakan</th>\n",
       "      <th>saraburi</th>\n",
       "      <th>sulawesi utara</th>\n",
       "      <th>unknown</th>\n",
       "    </tr>\n",
       "    <tr>\n",
       "      <th>success</th>\n",
       "      <th></th>\n",
       "      <th></th>\n",
       "      <th></th>\n",
       "      <th></th>\n",
       "      <th></th>\n",
       "      <th></th>\n",
       "      <th></th>\n",
       "      <th></th>\n",
       "      <th></th>\n",
       "      <th></th>\n",
       "      <th></th>\n",
       "      <th></th>\n",
       "      <th></th>\n",
       "      <th></th>\n",
       "      <th></th>\n",
       "      <th></th>\n",
       "      <th></th>\n",
       "      <th></th>\n",
       "      <th></th>\n",
       "      <th></th>\n",
       "      <th></th>\n",
       "    </tr>\n",
       "  </thead>\n",
       "  <tbody>\n",
       "    <tr>\n",
       "      <th>0</th>\n",
       "      <td>0</td>\n",
       "      <td>0</td>\n",
       "      <td>1</td>\n",
       "      <td>0</td>\n",
       "      <td>2</td>\n",
       "      <td>3</td>\n",
       "      <td>0</td>\n",
       "      <td>0</td>\n",
       "      <td>0</td>\n",
       "      <td>3</td>\n",
       "      <td>...</td>\n",
       "      <td>0</td>\n",
       "      <td>6</td>\n",
       "      <td>4</td>\n",
       "      <td>0</td>\n",
       "      <td>0</td>\n",
       "      <td>0</td>\n",
       "      <td>0</td>\n",
       "      <td>0</td>\n",
       "      <td>1</td>\n",
       "      <td>0</td>\n",
       "    </tr>\n",
       "    <tr>\n",
       "      <th>1</th>\n",
       "      <td>1</td>\n",
       "      <td>1</td>\n",
       "      <td>4</td>\n",
       "      <td>4</td>\n",
       "      <td>11</td>\n",
       "      <td>51</td>\n",
       "      <td>1</td>\n",
       "      <td>13</td>\n",
       "      <td>1</td>\n",
       "      <td>36</td>\n",
       "      <td>...</td>\n",
       "      <td>3</td>\n",
       "      <td>11</td>\n",
       "      <td>25</td>\n",
       "      <td>1</td>\n",
       "      <td>1</td>\n",
       "      <td>1</td>\n",
       "      <td>1</td>\n",
       "      <td>1</td>\n",
       "      <td>0</td>\n",
       "      <td>1</td>\n",
       "    </tr>\n",
       "  </tbody>\n",
       "</table>\n",
       "<p>2 rows × 2855 columns</p>\n",
       "</div>"
      ],
      "text/plain": [
       "state    (Region) of Republican Subordination (Province)  \\\n",
       "success                                                    \n",
       "0                                                      0   \n",
       "1                                                      1   \n",
       "\n",
       "state    (Republic of) Ingushetia  A Coruna  Aargau  Abia  Abkhazia  \\\n",
       "success                                                               \n",
       "0                               0         1       0     2         3   \n",
       "1                               1         4       4    11        51   \n",
       "\n",
       "state    Abkhazia (Autonomous Region)  Abkhazia (Autonomous Republic)  \\\n",
       "success                                                                 \n",
       "0                                   0                               0   \n",
       "1                                   1                              13   \n",
       "\n",
       "state    Abkhazia (Region)  Abra  ...  Zugdidi  Zulia  Zurich  khon kaen  \\\n",
       "success                           ...                                      \n",
       "0                        0     3  ...        0      6       4          0   \n",
       "1                        1    36  ...        3     11      25          1   \n",
       "\n",
       "state    phayao  sakon nakhon  samut prakan  saraburi  sulawesi utara  unknown  \n",
       "success                                                                         \n",
       "0             0             0             0         0               1        0  \n",
       "1             1             1             1         1               0        1  \n",
       "\n",
       "[2 rows x 2855 columns]"
      ]
     },
     "execution_count": 47,
     "metadata": {},
     "output_type": "execute_result"
    }
   ],
   "source": [
    "pd.crosstab(df['success'],df['state'])"
   ]
  },
  {
   "cell_type": "code",
   "execution_count": 48,
   "id": "9ff9518d",
   "metadata": {},
   "outputs": [
    {
     "name": "stdout",
     "output_type": "stream",
     "text": [
      "Year with the most total attacks: 2014\n",
      "Total number of attacks in that year: 16903\n",
      "Year with the most successful attacks: 2014\n",
      "Number of successful attacks in that year: 15015\n"
     ]
    }
   ],
   "source": [
    "successful_attacks = df[df['success'] == 1]\n",
    "\n",
    "total_attacks_by_year = df.groupby('Year').size().reset_index(name='Total_Attacks_Count')\n",
    "\n",
    "# Find the year with the most total attacks\n",
    "year_with_most_attacks = total_attacks_by_year.loc[total_attacks_by_year['Total_Attacks_Count'].idxmax()]\n",
    "\n",
    "print(\"Year with the most total attacks:\", year_with_most_attacks['Year'])\n",
    "print(\"Total number of attacks in that year:\", year_with_most_attacks['Total_Attacks_Count'])\n",
    "\n",
    "# Group data by year and count the number of successful attacks in each year\n",
    "successful_attacks_by_year = successful_attacks.groupby('Year').size().reset_index(name='Successful_Attacks_Count')\n",
    "\n",
    "# Find the year with the most successful attacks\n",
    "most_successful_year = successful_attacks_by_year.loc[successful_attacks_by_year['Successful_Attacks_Count'].idxmax()]\n",
    "\n",
    "\n",
    "\n",
    "print(\"Year with the most successful attacks:\", most_successful_year['Year'])\n",
    "print(\"Number of successful attacks in that year:\", most_successful_year['Successful_Attacks_Count'])"
   ]
  },
  {
   "cell_type": "code",
   "execution_count": 49,
   "id": "9b62bb87",
   "metadata": {},
   "outputs": [
    {
     "name": "stdout",
     "output_type": "stream",
     "text": [
      "Year with the least total attacks: 1971\n",
      "Total number of attacks in that year: 471\n"
     ]
    }
   ],
   "source": [
    "year_with_least_attacks = total_attacks_by_year.loc[total_attacks_by_year['Total_Attacks_Count'].idxmin()]\n",
    "print(\"Year with the least total attacks:\", year_with_least_attacks['Year'])\n",
    "print(\"Total number of attacks in that year:\", year_with_least_attacks['Total_Attacks_Count'])"
   ]
  },
  {
   "cell_type": "code",
   "execution_count": 50,
   "id": "ff80cf01",
   "metadata": {},
   "outputs": [
    {
     "data": {
      "image/png": "[encoded data removed]",
      "text/plain": [
       "<Figure size 1000x600 with 1 Axes>"
      ]
     },
     "metadata": {},
     "output_type": "display_data"
    }
   ],
   "source": [
    "plt.figure(figsize=(10, 6))\n",
    "plt.bar(total_attacks_by_year['Year'], total_attacks_by_year['Total_Attacks_Count'], color='blue')\n",
    "\n",
    "# Highlight the year with the most attacks using red color\n",
    "plt.bar(year_with_most_attacks['Year'], year_with_most_attacks['Total_Attacks_Count'], color='red')\n",
    "\n",
    "# Highlight the year with the least attacks using green color\n",
    "plt.bar(year_with_least_attacks['Year'], year_with_least_attacks['Total_Attacks_Count'], color='green')\n",
    "\n",
    "plt.xlabel('Year')\n",
    "plt.ylabel('Total Number of Attacks')\n",
    "plt.title('Total Number of Attacks Over the Years')\n",
    "plt.xticks(rotation=45)\n",
    "plt.tight_layout()\n",
    "plt.show()"
   ]
  },
  {
   "cell_type": "code",
   "execution_count": 51,
   "id": "dc1b3b0b",
   "metadata": {},
   "outputs": [
    {
     "data": {
      "text/html": [
       "<div>\n",
       "<style scoped>\n",
       "    .dataframe tbody tr th:only-of-type {\n",
       "        vertical-align: middle;\n",
       "    }\n",
       "\n",
       "    .dataframe tbody tr th {\n",
       "        vertical-align: top;\n",
       "    }\n",
       "\n",
       "    .dataframe thead th {\n",
       "        text-align: right;\n",
       "    }\n",
       "</style>\n",
       "<table border=\"1\" class=\"dataframe\">\n",
       "  <thead>\n",
       "    <tr style=\"text-align: right;\">\n",
       "      <th>AttackType</th>\n",
       "      <th>Armed Assault</th>\n",
       "      <th>Assassination</th>\n",
       "      <th>Bombing/Explosion</th>\n",
       "      <th>Facility/Infrastructure Attack</th>\n",
       "      <th>Hijacking</th>\n",
       "      <th>Hostage Taking (Barricade Incident)</th>\n",
       "      <th>Hostage Taking (Kidnapping)</th>\n",
       "      <th>Unarmed Assault</th>\n",
       "      <th>Unknown</th>\n",
       "    </tr>\n",
       "    <tr>\n",
       "      <th>property</th>\n",
       "      <th></th>\n",
       "      <th></th>\n",
       "      <th></th>\n",
       "      <th></th>\n",
       "      <th></th>\n",
       "      <th></th>\n",
       "      <th></th>\n",
       "      <th></th>\n",
       "      <th></th>\n",
       "    </tr>\n",
       "  </thead>\n",
       "  <tbody>\n",
       "    <tr>\n",
       "      <th>-9</th>\n",
       "      <td>5272</td>\n",
       "      <td>1010</td>\n",
       "      <td>12919</td>\n",
       "      <td>268</td>\n",
       "      <td>30</td>\n",
       "      <td>33</td>\n",
       "      <td>687</td>\n",
       "      <td>48</td>\n",
       "      <td>1119</td>\n",
       "    </tr>\n",
       "    <tr>\n",
       "      <th>0</th>\n",
       "      <td>16479</td>\n",
       "      <td>15354</td>\n",
       "      <td>20797</td>\n",
       "      <td>419</td>\n",
       "      <td>401</td>\n",
       "      <td>213</td>\n",
       "      <td>9198</td>\n",
       "      <td>575</td>\n",
       "      <td>3336</td>\n",
       "    </tr>\n",
       "    <tr>\n",
       "      <th>1</th>\n",
       "      <td>20918</td>\n",
       "      <td>2948</td>\n",
       "      <td>54539</td>\n",
       "      <td>9669</td>\n",
       "      <td>228</td>\n",
       "      <td>745</td>\n",
       "      <td>1273</td>\n",
       "      <td>392</td>\n",
       "      <td>2821</td>\n",
       "    </tr>\n",
       "  </tbody>\n",
       "</table>\n",
       "</div>"
      ],
      "text/plain": [
       "AttackType  Armed Assault  Assassination  Bombing/Explosion  \\\n",
       "property                                                      \n",
       "-9                   5272           1010              12919   \n",
       " 0                  16479          15354              20797   \n",
       " 1                  20918           2948              54539   \n",
       "\n",
       "AttackType  Facility/Infrastructure Attack  Hijacking  \\\n",
       "property                                                \n",
       "-9                                     268         30   \n",
       " 0                                     419        401   \n",
       " 1                                    9669        228   \n",
       "\n",
       "AttackType  Hostage Taking (Barricade Incident)  Hostage Taking (Kidnapping)  \\\n",
       "property                                                                       \n",
       "-9                                           33                          687   \n",
       " 0                                          213                         9198   \n",
       " 1                                          745                         1273   \n",
       "\n",
       "AttackType  Unarmed Assault  Unknown  \n",
       "property                              \n",
       "-9                       48     1119  \n",
       " 0                      575     3336  \n",
       " 1                      392     2821  "
      ]
     },
     "execution_count": 51,
     "metadata": {},
     "output_type": "execute_result"
    }
   ],
   "source": [
    "pd.crosstab(df['property'],df['AttackType'])"
   ]
  },
  {
   "cell_type": "code",
   "execution_count": 52,
   "id": "92869100",
   "metadata": {},
   "outputs": [
    {
     "name": "stdout",
     "output_type": "stream",
     "text": [
      "Year with the most total attacks: Iraq\n",
      "Total number of attacks in that year: 24636\n",
      "Year with the most successful attacks: Iraq\n",
      "Number of successful attacks in that year: 21861\n"
     ]
    }
   ],
   "source": [
    "successful_attacks = df[df['success'] == 1]\n",
    "\n",
    "total_attacks_by_year = df.groupby('Country').size().reset_index(name='Total_Attacks_Count')\n",
    "\n",
    "# Find the year with the most total attacks\n",
    "year_with_most_attacks = total_attacks_by_year.loc[total_attacks_by_year['Total_Attacks_Count'].idxmax()]\n",
    "\n",
    "print(\"Year with the most total attacks:\", year_with_most_attacks['Country'])\n",
    "print(\"Total number of attacks in that year:\", year_with_most_attacks['Total_Attacks_Count'])\n",
    "\n",
    "# Group data by year and count the number of successful attacks in each year\n",
    "successful_attacks_by_year = successful_attacks.groupby('Country').size().reset_index(name='Successful_Attacks_Count')\n",
    "\n",
    "# Find the year with the most successful attacks\n",
    "most_successful_year = successful_attacks_by_year.loc[successful_attacks_by_year['Successful_Attacks_Count'].idxmax()]\n",
    "\n",
    "\n",
    "\n",
    "print(\"Year with the most successful attacks:\", most_successful_year['Country'])\n",
    "print(\"Number of successful attacks in that year:\", most_successful_year['Successful_Attacks_Count'])"
   ]
  },
  {
   "cell_type": "code",
   "execution_count": 53,
   "id": "ca7c1733",
   "metadata": {},
   "outputs": [
    {
     "data": {
      "text/html": [
       "<div>\n",
       "<style scoped>\n",
       "    .dataframe tbody tr th:only-of-type {\n",
       "        vertical-align: middle;\n",
       "    }\n",
       "\n",
       "    .dataframe tbody tr th {\n",
       "        vertical-align: top;\n",
       "    }\n",
       "\n",
       "    .dataframe thead th {\n",
       "        text-align: right;\n",
       "    }\n",
       "</style>\n",
       "<table border=\"1\" class=\"dataframe\">\n",
       "  <thead>\n",
       "    <tr style=\"text-align: right;\">\n",
       "      <th></th>\n",
       "      <th>Year</th>\n",
       "      <th>Month</th>\n",
       "      <th>Day</th>\n",
       "      <th>Country</th>\n",
       "      <th>extended</th>\n",
       "      <th>state</th>\n",
       "      <th>Region</th>\n",
       "      <th>city</th>\n",
       "      <th>AttackType</th>\n",
       "      <th>Killed</th>\n",
       "      <th>Wounded</th>\n",
       "      <th>property</th>\n",
       "      <th>Target</th>\n",
       "      <th>nationality_Target</th>\n",
       "      <th>Group</th>\n",
       "      <th>Target_type</th>\n",
       "      <th>Weapon_type</th>\n",
       "      <th>success</th>\n",
       "    </tr>\n",
       "  </thead>\n",
       "  <tbody>\n",
       "    <tr>\n",
       "      <th>0</th>\n",
       "      <td>1970</td>\n",
       "      <td>7</td>\n",
       "      <td>2</td>\n",
       "      <td>Dominican Republic</td>\n",
       "      <td>0</td>\n",
       "      <td>NaN</td>\n",
       "      <td>Central America &amp; Caribbean</td>\n",
       "      <td>Santo Domingo</td>\n",
       "      <td>Assassination</td>\n",
       "      <td>1.0</td>\n",
       "      <td>0.0</td>\n",
       "      <td>0</td>\n",
       "      <td>Julio Guzman</td>\n",
       "      <td>Dominican Republic</td>\n",
       "      <td>MANO-D</td>\n",
       "      <td>Private Citizens &amp; Property</td>\n",
       "      <td>Unknown</td>\n",
       "      <td>1</td>\n",
       "    </tr>\n",
       "    <tr>\n",
       "      <th>1</th>\n",
       "      <td>1970</td>\n",
       "      <td>0</td>\n",
       "      <td>0</td>\n",
       "      <td>Mexico</td>\n",
       "      <td>0</td>\n",
       "      <td>Federal</td>\n",
       "      <td>North America</td>\n",
       "      <td>Mexico city</td>\n",
       "      <td>Hostage Taking (Kidnapping)</td>\n",
       "      <td>0.0</td>\n",
       "      <td>0.0</td>\n",
       "      <td>0</td>\n",
       "      <td>Nadine Chaval, daughter</td>\n",
       "      <td>Belgium</td>\n",
       "      <td>23rd of September Communist League</td>\n",
       "      <td>Government (Diplomatic)</td>\n",
       "      <td>Unknown</td>\n",
       "      <td>1</td>\n",
       "    </tr>\n",
       "    <tr>\n",
       "      <th>2</th>\n",
       "      <td>1970</td>\n",
       "      <td>1</td>\n",
       "      <td>0</td>\n",
       "      <td>Philippines</td>\n",
       "      <td>0</td>\n",
       "      <td>Tarlac</td>\n",
       "      <td>Southeast Asia</td>\n",
       "      <td>Unknown</td>\n",
       "      <td>Assassination</td>\n",
       "      <td>1.0</td>\n",
       "      <td>0.0</td>\n",
       "      <td>0</td>\n",
       "      <td>Employee</td>\n",
       "      <td>United States</td>\n",
       "      <td>Unknown</td>\n",
       "      <td>Journalists &amp; Media</td>\n",
       "      <td>Unknown</td>\n",
       "      <td>1</td>\n",
       "    </tr>\n",
       "    <tr>\n",
       "      <th>3</th>\n",
       "      <td>1970</td>\n",
       "      <td>1</td>\n",
       "      <td>0</td>\n",
       "      <td>Greece</td>\n",
       "      <td>0</td>\n",
       "      <td>Attica</td>\n",
       "      <td>Western Europe</td>\n",
       "      <td>Athens</td>\n",
       "      <td>Bombing/Explosion</td>\n",
       "      <td>NaN</td>\n",
       "      <td>NaN</td>\n",
       "      <td>1</td>\n",
       "      <td>U.S. Embassy</td>\n",
       "      <td>United States</td>\n",
       "      <td>Unknown</td>\n",
       "      <td>Government (Diplomatic)</td>\n",
       "      <td>Explosives</td>\n",
       "      <td>1</td>\n",
       "    </tr>\n",
       "    <tr>\n",
       "      <th>4</th>\n",
       "      <td>1970</td>\n",
       "      <td>1</td>\n",
       "      <td>0</td>\n",
       "      <td>Japan</td>\n",
       "      <td>0</td>\n",
       "      <td>Fukouka</td>\n",
       "      <td>East Asia</td>\n",
       "      <td>Fukouka</td>\n",
       "      <td>Facility/Infrastructure Attack</td>\n",
       "      <td>NaN</td>\n",
       "      <td>NaN</td>\n",
       "      <td>1</td>\n",
       "      <td>U.S. Consulate</td>\n",
       "      <td>United States</td>\n",
       "      <td>Unknown</td>\n",
       "      <td>Government (Diplomatic)</td>\n",
       "      <td>Incendiary</td>\n",
       "      <td>1</td>\n",
       "    </tr>\n",
       "  </tbody>\n",
       "</table>\n",
       "</div>"
      ],
      "text/plain": [
       "   Year  Month  Day             Country  extended    state  \\\n",
       "0  1970      7    2  Dominican Republic         0      NaN   \n",
       "1  1970      0    0              Mexico         0  Federal   \n",
       "2  1970      1    0         Philippines         0   Tarlac   \n",
       "3  1970      1    0              Greece         0   Attica   \n",
       "4  1970      1    0               Japan         0  Fukouka   \n",
       "\n",
       "                        Region           city                      AttackType  \\\n",
       "0  Central America & Caribbean  Santo Domingo                   Assassination   \n",
       "1                North America    Mexico city     Hostage Taking (Kidnapping)   \n",
       "2               Southeast Asia        Unknown                   Assassination   \n",
       "3               Western Europe         Athens               Bombing/Explosion   \n",
       "4                    East Asia        Fukouka  Facility/Infrastructure Attack   \n",
       "\n",
       "   Killed  Wounded  property                   Target  nationality_Target  \\\n",
       "0     1.0      0.0         0             Julio Guzman  Dominican Republic   \n",
       "1     0.0      0.0         0  Nadine Chaval, daughter             Belgium   \n",
       "2     1.0      0.0         0                 Employee       United States   \n",
       "3     NaN      NaN         1             U.S. Embassy       United States   \n",
       "4     NaN      NaN         1           U.S. Consulate       United States   \n",
       "\n",
       "                                Group                  Target_type  \\\n",
       "0                              MANO-D  Private Citizens & Property   \n",
       "1  23rd of September Communist League      Government (Diplomatic)   \n",
       "2                             Unknown          Journalists & Media   \n",
       "3                             Unknown      Government (Diplomatic)   \n",
       "4                             Unknown      Government (Diplomatic)   \n",
       "\n",
       "  Weapon_type  success  \n",
       "0     Unknown        1  \n",
       "1     Unknown        1  \n",
       "2     Unknown        1  \n",
       "3  Explosives        1  \n",
       "4  Incendiary        1  "
      ]
     },
     "execution_count": 53,
     "metadata": {},
     "output_type": "execute_result"
    }
   ],
   "source": [
    "df.head()"
   ]
  },
  {
   "cell_type": "code",
   "execution_count": 54,
   "id": "7b597756",
   "metadata": {},
   "outputs": [
    {
     "name": "stdout",
     "output_type": "stream",
     "text": [
      "Year with the second highest total attacks: Taliban\n",
      "Total number of attacks in that year: 7478\n"
     ]
    }
   ],
   "source": [
    "successful_attacks = df[df['success'] == 1]\n",
    "\n",
    "# Group data by year and count the total number of attacks in each year\n",
    "total_attacks_by_year = df.groupby('Group').size().reset_index(name='Total_Attacks_Count')\n",
    "\n",
    "\n",
    "# Find the second-highest total number of attacks and the corresponding year\n",
    "second_highest = total_attacks_by_year.nlargest(2, 'Total_Attacks_Count').iloc[1]\n",
    "\n",
    "\n",
    "print(\"Year with the second highest total attacks:\", second_highest['Group'])\n",
    "print(\"Total number of attacks in that year:\", second_highest['Total_Attacks_Count'])"
   ]
  },
  {
   "cell_type": "code",
   "execution_count": 55,
   "id": "2c74357b",
   "metadata": {},
   "outputs": [
    {
     "name": "stdout",
     "output_type": "stream",
     "text": [
      "Year with the most successful attacks: Unknown\n",
      "Total number of successful attacks in that year: 71748\n",
      "Year with the second highest successful attacks: Taliban\n",
      "Total number of successful attacks in that year: 6680\n"
     ]
    }
   ],
   "source": [
    "# Filter data for successful attacks\n",
    "successful_attacks = df[df['success'] == 1]\n",
    "\n",
    "# Group successful attacks data by year and count the total number of successful attacks in each year\n",
    "successful_attacks_by_year = successful_attacks.groupby('Group').size().reset_index(name='Total_Successful_Attacks_Count')\n",
    "\n",
    "# Find the year with the most successful attacks\n",
    "year_with_most_successful_attacks = successful_attacks_by_year.loc[successful_attacks_by_year['Total_Successful_Attacks_Count'].idxmax()]\n",
    "\n",
    "# Find the year with the second-highest total successful attacks and the corresponding count\n",
    "second_highest_successful = successful_attacks_by_year.nlargest(2, 'Total_Successful_Attacks_Count').iloc[1]\n",
    "\n",
    "print(\"Year with the most successful attacks:\", year_with_most_successful_attacks['Group'])\n",
    "print(\"Total number of successful attacks in that year:\", year_with_most_successful_attacks['Total_Successful_Attacks_Count'])\n",
    "print(\"Year with the second highest successful attacks:\", second_highest_successful['Group'])\n",
    "print(\"Total number of successful attacks in that year:\", second_highest_successful['Total_Successful_Attacks_Count'])"
   ]
  },
  {
   "cell_type": "code",
   "execution_count": 56,
   "id": "cdb13d79",
   "metadata": {},
   "outputs": [
    {
     "name": "stdout",
     "output_type": "stream",
     "text": [
      "Year with the most successful attacks: Explosives\n",
      "Total number of successful attacks in that year: 79746\n"
     ]
    }
   ],
   "source": [
    "successful_attacks = df[df['success'] == 1]\n",
    "\n",
    "# Group successful attacks data by year and count the total number of successful attacks in each year\n",
    "successful_attacks_by_year = successful_attacks.groupby('Weapon_type').size().reset_index(name='Total_Successful_Attacks_Count')\n",
    "\n",
    "# Find the year with the most successful attacks\n",
    "year_with_most_successful_attacks = successful_attacks_by_year.loc[successful_attacks_by_year['Total_Successful_Attacks_Count'].idxmax()]\n",
    "\n",
    "\n",
    "print(\"Year with the most successful attacks:\", year_with_most_successful_attacks['Weapon_type'])\n",
    "print(\"Total number of successful attacks in that year:\", year_with_most_successful_attacks['Total_Successful_Attacks_Count'])"
   ]
  },
  {
   "cell_type": "code",
   "execution_count": 57,
   "id": "9902e8bc",
   "metadata": {},
   "outputs": [
    {
     "name": "stdout",
     "output_type": "stream",
     "text": [
      "Country with the maximum attacks: Iraq\n",
      "Region with the maximum attacks: Middle East & North Africa\n",
      "Region with the minimum attacks: Western Europe\n",
      "Total number of attacks in that region: 24636\n"
     ]
    }
   ],
   "source": [
    "attacks_by_country_region = df.groupby(['Country', 'Region']).size().reset_index(name='Total_Attacks_Count')\n",
    "\n",
    "# Find the row with the maximum total number of attacks\n",
    "max_attacks_row = attacks_by_country_region.loc[attacks_by_country_region['Total_Attacks_Count'].idxmax()]\n",
    "min_attacks_row = attacks_by_country_region.loc[attacks_by_country_region['Total_Attacks_Count'].idxmin()]\n",
    "\n",
    "print(\"Country with the maximum attacks:\", max_attacks_row['Country'])\n",
    "print(\"Region with the maximum attacks:\", max_attacks_row['Region'])\n",
    "print(\"Region with the minimum attacks:\", min_attacks_row['Region'])\n",
    "print(\"Total number of attacks in that region:\", max_attacks_row['Total_Attacks_Count'])"
   ]
  },
  {
   "cell_type": "code",
   "execution_count": null,
   "id": "d9d4d7eb",
   "metadata": {},
   "outputs": [],
   "source": []
  }
 ],
 "metadata": {
  "kernelspec": {
   "display_name": "Python 3 (ipykernel)",
   "language": "python",
   "name": "python3"
  },
  "language_info": {
   "codemirror_mode": {
    "name": "ipython",
    "version": 3
   },
   "file_extension": ".py",
   "mimetype": "text/x-python",
   "name": "python",
   "nbconvert_exporter": "python",
   "pygments_lexer": "ipython3",
   "version": "3.11.4"
  }
 },
 "nbformat": 4,
 "nbformat_minor": 5
}
